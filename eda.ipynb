{
 "cells": [
  {
   "cell_type": "markdown",
   "id": "10a32ba4-12ed-4c5f-aa39-60fcc4fee4ea",
   "metadata": {},
   "source": [
    "# Business Problem"
   ]
  },
  {
   "cell_type": "markdown",
   "id": "f0b16e42-8e72-46ce-b0ab-b65b57ba4fdd",
   "metadata": {},
   "source": [
    "A bank requested a machine learning model that would produce results on whether loan applicants among the bank's customers would get the loan or not.\n",
    "\n",
    "Data Quality                                                                                \n",
    "Descriptive Statistics\n",
    "Modelling\n",
    "Evaluation"
   ]
  },
  {
   "cell_type": "markdown",
   "id": "11b7c649-9861-490c-a594-9cb5ee7db1e5",
   "metadata": {},
   "source": [
    "1. Data Quality\n",
    "It is the dataset that contains information about customers and we will work on deriving useful insights from the information and predicting whether a new customer will accept a loan offer.\n",
    "\n",
    "1 - age: The age of the customer, must be over 18(numeric)\n",
    "\n",
    "2 - job: customer is profession(categorical)\n",
    "\n",
    "admin.\n",
    "blue-collar\n",
    "entrepreneur\n",
    "housemaid\n",
    "management\n",
    "self-employed\n",
    "retired\n",
    "services\n",
    "student\n",
    "technician\n",
    "unemployed\n",
    "unknown\n",
    "3 - marital: marital status(categorical)\n",
    "\n",
    "married\n",
    "single\n",
    "divorced Note: 'divorced' means divorced or widowed\n",
    "4 - education: educational status(categorical)\n",
    "\n",
    "primary\n",
    "secondary\n",
    "tertiary\n",
    "unknown\n",
    "5 - balance: bank balance\n",
    "\n",
    "6 - housing: has housing loan? (categorical: 'no','yes','unknown')\n",
    "\n",
    "7 - campaign: number of contacts performed during this campaign and for this client (numeric)\n",
    "\n",
    "8 - deposit: did the customer get a loan? (binary: 'yes', 'no')\n",
    "\n",
    "9 - duration: contact time in seconds (numeric)"
   ]
  },
  {
   "cell_type": "markdown",
   "id": "92729ac9-1ec7-4d55-9b0e-efa147e4a528",
   "metadata": {},
   "source": [
    "Libraries"
   ]
  },
  {
   "cell_type": "code",
   "execution_count": null,
   "id": "3103e08c-e310-4df6-aaa8-ed443e0d2c35",
   "metadata": {},
   "outputs": [],
   "source": []
  }
 ],
 "metadata": {
  "kernelspec": {
   "display_name": "Python 3 (ipykernel)",
   "language": "python",
   "name": "python3"
  },
  "language_info": {
   "codemirror_mode": {
    "name": "ipython",
    "version": 3
   },
   "file_extension": ".py",
   "mimetype": "text/x-python",
   "name": "python",
   "nbconvert_exporter": "python",
   "pygments_lexer": "ipython3",
   "version": "3.10.9"
  }
 },
 "nbformat": 4,
 "nbformat_minor": 5
}
