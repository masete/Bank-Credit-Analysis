{
 "cells": [
  {
   "cell_type": "markdown",
   "id": "10a32ba4-12ed-4c5f-aa39-60fcc4fee4ea",
   "metadata": {},
   "source": [
    "# Business Problem"
   ]
  },
  {
   "cell_type": "markdown",
   "id": "f0b16e42-8e72-46ce-b0ab-b65b57ba4fdd",
   "metadata": {},
   "source": [
    "A bank requested a machine learning model that would produce results on whether loan applicants among the bank's customers would get the loan or not.\n",
    "\n",
    "Data Quality                                                                                \n",
    "Descriptive Statistics\n",
    "Modelling\n",
    "Evaluation"
   ]
  },
  {
   "cell_type": "markdown",
   "id": "11b7c649-9861-490c-a594-9cb5ee7db1e5",
   "metadata": {},
   "source": [
    "1. Data Quality\n",
    "It is the dataset that contains information about customers and we will work on deriving useful insights from the information and predicting whether a new customer will accept a loan offer.\n",
    "\n",
    "1 - age: The age of the customer, must be over 18(numeric)\n",
    "\n",
    "2 - job: customer is profession(categorical)\n",
    "\n",
    "admin.\n",
    "blue-collar\n",
    "entrepreneur\n",
    "housemaid\n",
    "management\n",
    "self-employed\n",
    "retired\n",
    "services\n",
    "student\n",
    "technician\n",
    "unemployed\n",
    "unknown\n",
    "3 - marital: marital status(categorical)\n",
    "\n",
    "married\n",
    "single\n",
    "divorced Note: 'divorced' means divorced or widowed\n",
    "4 - education: educational status(categorical)\n",
    "\n",
    "primary\n",
    "secondary\n",
    "tertiary\n",
    "unknown\n",
    "5 - balance: bank balance\n",
    "\n",
    "6 - housing: has housing loan? (categorical: 'no','yes','unknown')\n",
    "\n",
    "7 - campaign: number of contacts performed during this campaign and for this client (numeric)\n",
    "\n",
    "8 - deposit: did the customer get a loan? (binary: 'yes', 'no')\n",
    "\n",
    "9 - duration: contact time in seconds (numeric)"
   ]
  },
  {
   "cell_type": "markdown",
   "id": "92729ac9-1ec7-4d55-9b0e-efa147e4a528",
   "metadata": {},
   "source": [
    "Libraries"
   ]
  },
  {
   "cell_type": "code",
   "execution_count": 1,
   "id": "3103e08c-e310-4df6-aaa8-ed443e0d2c35",
   "metadata": {},
   "outputs": [
    {
     "name": "stdout",
     "output_type": "stream",
     "text": [
      "Requirement already satisfied: lazypredict in ./venv/lib/python3.10/site-packages (0.2.12)\n",
      "Requirement already satisfied: joblib in ./venv/lib/python3.10/site-packages (from lazypredict) (1.2.0)\n",
      "Requirement already satisfied: lightgbm in ./venv/lib/python3.10/site-packages (from lazypredict) (3.3.4)\n",
      "Requirement already satisfied: pandas in ./venv/lib/python3.10/site-packages (from lazypredict) (1.5.2)\n",
      "Requirement already satisfied: click in ./venv/lib/python3.10/site-packages (from lazypredict) (8.1.3)\n",
      "Requirement already satisfied: xgboost in ./venv/lib/python3.10/site-packages (from lazypredict) (1.7.3)\n",
      "Requirement already satisfied: tqdm in ./venv/lib/python3.10/site-packages (from lazypredict) (4.64.1)\n",
      "Requirement already satisfied: scikit-learn in ./venv/lib/python3.10/site-packages (from lazypredict) (1.2.0)\n",
      "Requirement already satisfied: wheel in ./venv/lib/python3.10/site-packages (from lightgbm->lazypredict) (0.38.4)\n",
      "Requirement already satisfied: scipy in ./venv/lib/python3.10/site-packages (from lightgbm->lazypredict) (1.10.0)\n",
      "Requirement already satisfied: numpy in ./venv/lib/python3.10/site-packages (from lightgbm->lazypredict) (1.24.1)\n",
      "Requirement already satisfied: threadpoolctl>=2.0.0 in ./venv/lib/python3.10/site-packages (from scikit-learn->lazypredict) (3.1.0)\n",
      "Requirement already satisfied: python-dateutil>=2.8.1 in ./venv/lib/python3.10/site-packages (from pandas->lazypredict) (2.8.2)\n",
      "Requirement already satisfied: pytz>=2020.1 in ./venv/lib/python3.10/site-packages (from pandas->lazypredict) (2022.7.1)\n",
      "Requirement already satisfied: six>=1.5 in ./venv/lib/python3.10/site-packages (from python-dateutil>=2.8.1->pandas->lazypredict) (1.16.0)\n"
     ]
    }
   ],
   "source": [
    "!pip install lazypredict"
   ]
  },
  {
   "cell_type": "code",
   "execution_count": 2,
   "id": "8cc6ca88-525f-4504-a5cd-6e18266f77ab",
   "metadata": {},
   "outputs": [],
   "source": [
    "import os\n",
    "import lazypredict\n",
    "import numpy as np\n",
    "import pandas as pd\n",
    "import xgboost as xgb\n",
    "import seaborn as sns\n",
    "import matplotlib.pyplot as plt\n",
    "from xgboost import XGBRegressor\n",
    "import matplotlib.pyplot as pyplot\n",
    "from lightgbm import LGBMClassifier\n",
    "from imblearn.over_sampling import SMOTE\n",
    "from lazypredict.Supervised import LazyClassifier\n",
    "from sklearn.preprocessing import MinMaxScaler, StandardScaler, LabelEncoder\n",
    "from sklearn.model_selection import train_test_split, GridSearchCV\n",
    "from sklearn.metrics import classification_report, confusion_matrix, ConfusionMatrixDisplay\n",
    "from sklearn.metrics import roc_auc_score, f1_score, precision_score, recall_score, accuracy_score, auc, roc_curve\n",
    "\n",
    "import warnings\n",
    "from sklearn.exceptions import ConvergenceWarning\n",
    "warnings.simplefilter(action='ignore', category=FutureWarning)\n",
    "warnings.simplefilter(\"ignore\", category=ConvergenceWarning)\n",
    "\n",
    "pd.set_option('display.max_columns', None)\n",
    "pd.set_option('display.max_rows', None)\n",
    "pd.set_option('display.width', None)\n",
    "pd.set_option('display.float_format', lambda x: '%.3f' % x)"
   ]
  },
  {
   "cell_type": "code",
   "execution_count": 10,
   "id": "1c98be5c-71a7-4563-a45c-fbeba656dc42",
   "metadata": {},
   "outputs": [],
   "source": [
    "def load():\n",
    "    df = pd.read_csv('data/bank.csv')\n",
    "    return df\n",
    "\n",
    "df = load()\n",
    "\n",
    "df = df.drop(labels = ['default', 'contact', 'day', 'month', 'pdays', 'previous', 'loan', 'poutcome', 'poutcome'], axis=1)"
   ]
  },
  {
   "cell_type": "markdown",
   "id": "9eb1e828-63d6-4df4-8eed-442c71258372",
   "metadata": {},
   "source": [
    "Overview"
   ]
  },
  {
   "cell_type": "code",
   "execution_count": 12,
   "id": "df144dca-7dbe-4c60-a492-79efa4003094",
   "metadata": {},
   "outputs": [
    {
     "name": "stdout",
     "output_type": "stream",
     "text": [
      "##################### Shape #####################\n",
      "(11162, 9)\n",
      "##################### Types #####################\n",
      "age           int64\n",
      "job          object\n",
      "marital      object\n",
      "education    object\n",
      "balance       int64\n",
      "housing      object\n",
      "duration      int64\n",
      "campaign      int64\n",
      "deposit      object\n",
      "dtype: object\n",
      "##################### Head #####################\n",
      "   age         job  marital  education  balance housing  duration  campaign  \\\n",
      "0   59      admin.  married  secondary     2343     yes      1042         1   \n",
      "1   56      admin.  married  secondary       45      no      1467         1   \n",
      "2   41  technician  married  secondary     1270     yes      1389         1   \n",
      "3   55    services  married  secondary     2476     yes       579         1   \n",
      "4   54      admin.  married   tertiary      184      no       673         2   \n",
      "\n",
      "  deposit  \n",
      "0     yes  \n",
      "1     yes  \n",
      "2     yes  \n",
      "3     yes  \n",
      "4     yes  \n",
      "##################### NA #####################\n",
      "age          0\n",
      "job          0\n",
      "marital      0\n",
      "education    0\n",
      "balance      0\n",
      "housing      0\n",
      "duration     0\n",
      "campaign     0\n",
      "deposit      0\n",
      "dtype: int64\n",
      "##################### Quantiles #####################\n",
      "             0.000   0.050   0.500    0.950     0.990     1.000\n",
      "age         18.000  26.000  39.000   61.000    77.000    95.000\n",
      "balance  -6847.000 -54.950 550.000 6026.450 13226.980 81204.000\n",
      "duration     2.000  51.000 255.000 1079.900  1577.170  3881.000\n",
      "campaign     1.000   1.000   2.000    7.000    13.000    63.000\n"
     ]
    }
   ],
   "source": [
    "def check_df(dataframe):\n",
    "    print(\"##################### Shape #####################\")\n",
    "    print(dataframe.shape)\n",
    "    print(\"##################### Types #####################\")\n",
    "    print(dataframe.dtypes)\n",
    "    print(\"##################### Head #####################\")\n",
    "    print(dataframe.head(5))\n",
    "    print(\"##################### NA #####################\")\n",
    "    print(dataframe.isnull().sum())\n",
    "    print(\"##################### Quantiles #####################\")\n",
    "    print(dataframe.quantile([0, 0.05, 0.50, 0.95, 0.99, 1]).T)\n",
    "\n",
    "check_df(df)"
   ]
  },
  {
   "cell_type": "markdown",
   "id": "8572f950-95d3-4223-8351-ec082029c48f",
   "metadata": {},
   "source": [
    "Capture of Numerical and Category Variables"
   ]
  },
  {
   "cell_type": "code",
   "execution_count": 13,
   "id": "e5cf4bef-7d88-44f8-bb73-c5f11b080853",
   "metadata": {},
   "outputs": [
    {
     "name": "stdout",
     "output_type": "stream",
     "text": [
      "observations: 11162\n",
      "variables: 9\n",
      "cat_cols: 5\n",
      "num_cols: 4\n",
      "cat_but_car: 0\n",
      "num_but_cat: 0\n"
     ]
    }
   ],
   "source": [
    "def grab_col_names(dataframe, cat_th=10, car_th=20):\n",
    "    \"\"\"\n",
    "\n",
    "        Returns the names of categorical, numeric and categorical but cardinal variables in the data set.\n",
    "        Note: Categorical variables include categorical variables with numeric appearance.\n",
    "\n",
    "        Parameters\n",
    "        ------\n",
    "            dataframe: dataframe\n",
    "                    Dataframe to get variable names\n",
    "            cat_th: int, optional\n",
    "                    class threshold for numeric but categorical variables\n",
    "            car_th: int, optinal\n",
    "                    class threshold for categorical but cardinal variables\n",
    "\n",
    "        Returns\n",
    "        ------\n",
    "            cat_cols: list\n",
    "                    Categorical variable list\n",
    "            num_cols: list\n",
    "                    Numeric variable list\n",
    "            cat_but_car: list\n",
    "                    List of cardinal variables with categorical view\n",
    "\n",
    "        Examples\n",
    "        ------\n",
    "            import seaborn as sns\n",
    "            df = sns.load_dataset(\"iris\")\n",
    "            print(grab_col_names(df))\n",
    "\n",
    "\n",
    "        Notes\n",
    "        ------\n",
    "            cat_cols + num_cols + cat_but_car = total number of variables\n",
    "            num_but_cat is inside cat_cols.\n",
    "            The sum of the 3 return lists equals the total number of variables: cat_cols + num_cols + cat_but_car = number of variables\n",
    "\n",
    "        \"\"\"\n",
    "    # cat_cols, cat_but_car\n",
    "    cat_cols = [col for col in dataframe.columns if dataframe[col].dtypes == \"O\"]\n",
    "    num_but_cat = [col for col in dataframe.columns if dataframe[col].nunique() < cat_th and\n",
    "                   dataframe[col].dtypes != \"O\"]\n",
    "    cat_but_car = [col for col in dataframe.columns if dataframe[col].nunique() > car_th and\n",
    "                   dataframe[col].dtypes == \"O\"]\n",
    "    cat_cols = cat_cols + num_but_cat\n",
    "    cat_cols = [col for col in cat_cols if col not in cat_but_car]\n",
    "\n",
    "    # num_cols\n",
    "    num_cols = [col for col in dataframe.columns if dataframe[col].dtypes != \"O\"]\n",
    "    num_cols = [col for col in num_cols if col not in num_but_cat]\n",
    "\n",
    "    print(f\"observations: {dataframe.shape[0]}\")\n",
    "    print(f\"variables: {dataframe.shape[1]}\")\n",
    "    print(f'cat_cols: {len(cat_cols)}')\n",
    "    print(f'num_cols: {len(num_cols)}')\n",
    "    print(f'cat_but_car: {len(cat_but_car)}')\n",
    "    print(f'num_but_cat: {len(num_but_cat)}')\n",
    "    return cat_cols, num_cols, cat_but_car\n",
    "\n",
    "cat_cols, num_cols, cat_but_car = grab_col_names(df)"
   ]
  },
  {
   "cell_type": "code",
   "execution_count": 14,
   "id": "f08c963b-160d-4a84-a46b-538a6e92a60f",
   "metadata": {},
   "outputs": [
    {
     "data": {
      "text/plain": [
       "['job', 'marital', 'education', 'housing', 'deposit']"
      ]
     },
     "execution_count": 14,
     "metadata": {},
     "output_type": "execute_result"
    }
   ],
   "source": [
    "cat_cols"
   ]
  },
  {
   "cell_type": "code",
   "execution_count": 15,
   "id": "2b5cc427-4ed8-4f0b-b580-6f68fd6c5b2d",
   "metadata": {},
   "outputs": [
    {
     "data": {
      "text/plain": [
       "['age', 'balance', 'duration', 'campaign']"
      ]
     },
     "execution_count": 15,
     "metadata": {},
     "output_type": "execute_result"
    }
   ],
   "source": [
    "num_cols"
   ]
  },
  {
   "cell_type": "markdown",
   "id": "1b59225b-cf35-451a-83ed-a09a3c4d17da",
   "metadata": {},
   "source": [
    "#### Summary\n",
    "When the NA and Quantiles outputs are checked after running the check_df function, it is known that there are no missing observations but there are outliers.\n",
    "\n",
    "The minimum age variable will be assumed to be 18, because the minimum age to get a loan from banks is 18 (This assumption is made because the age limit for many countries is 18, but for absolute accuracy, it is necessary to know the country where the data comes from, for which the relevant department should be contacted).\n",
    "\n",
    "Since age cannot be a negative value, improvements should be made if necessary.\n",
    "\n",
    "Will we check for outliers? It has also been observed that some age data is unrealistically high.(e.g. 416 and 338)\n",
    "The duration column should also be examined, and the duration column should not be a negative value."
   ]
  },
  {
   "cell_type": "code",
   "execution_count": 17,
   "id": "9e8fc02e-d218-4a66-8ca1-35c88e193f01",
   "metadata": {},
   "outputs": [
    {
     "data": {
      "text/plain": [
       "array([59, 56, 41, 55, 54, 42, 60, 37, 28, 38, 30, 29, 46, 31, 35, 32, 49,\n",
       "       43, 26, 40, 33, 23, 48, 45, 36, 52, 53, 39, 57, 51, 44, 24, 50, 27,\n",
       "       34, 47, 25, 58, 61, 68, 75, 22, 69, 66, 85, 72, 90, 67, 71, 21, 74,\n",
       "       65, 62, 83, 70, 76, 77, 19, 73, 63, 20, 78, 95, 64, 79, 82, 18, 86,\n",
       "       84, 87, 92, 81, 80, 93, 88, 89])"
      ]
     },
     "execution_count": 17,
     "metadata": {},
     "output_type": "execute_result"
    }
   ],
   "source": []
  },
  {
   "cell_type": "markdown",
   "id": "7840dcaf-784e-4c0f-ad92-2e04324fc804",
   "metadata": {},
   "source": [
    "#### Outlier Analysis"
   ]
  },
  {
   "cell_type": "code",
   "execution_count": 18,
   "id": "c44d85a7-16a1-4ecc-bb77-1c159dba46e6",
   "metadata": {},
   "outputs": [],
   "source": [
    "def outlier_thresholds(dataframe, col_name, q1=0.05, q3=0.95):\n",
    "    quartile1 = dataframe[col_name].quantile(q1)\n",
    "    quartile3 = dataframe[col_name].quantile(q3)\n",
    "    interquantile_range = quartile3 - quartile1\n",
    "    up_limit = quartile3 + 1.5 * interquantile_range\n",
    "    low_limit = quartile1 - 1.5 * interquantile_range\n",
    "    return low_limit, up_limit"
   ]
  },
  {
   "cell_type": "code",
   "execution_count": 19,
   "id": "2c14f965-236c-487b-897c-5cd21d35af4a",
   "metadata": {},
   "outputs": [
    {
     "data": {
      "text/plain": [
       "(-26.5, 113.5)"
      ]
     },
     "execution_count": 19,
     "metadata": {},
     "output_type": "execute_result"
    }
   ],
   "source": [
    "outlier_thresholds(df, \"age\")"
   ]
  },
  {
   "cell_type": "code",
   "execution_count": 20,
   "id": "0426f824-bd44-4483-97f6-922f04819c88",
   "metadata": {},
   "outputs": [],
   "source": [
    "def grab_outliers(dataframe, col_name, index=False):\n",
    "    low, up = outlier_thresholds(dataframe, col_name)\n",
    "\n",
    "    if dataframe[((dataframe[col_name] < low) | (dataframe[col_name] > up))].shape[0] > 10:\n",
    "        print(dataframe[((dataframe[col_name] < low) | (dataframe[col_name] > up))].head())\n",
    "    else:\n",
    "        print(dataframe[((dataframe[col_name] < low) | (dataframe[col_name] > up))])\n",
    "\n",
    "    if index:\n",
    "        outlier_index = dataframe[((dataframe[col_name] < low) | (dataframe[col_name] > up))].index\n",
    "        return outlier_index"
   ]
  },
  {
   "cell_type": "code",
   "execution_count": 21,
   "id": "5f7a09e7-ef9d-43e5-9e62-65dbdd4657fa",
   "metadata": {},
   "outputs": [
    {
     "name": "stdout",
     "output_type": "stream",
     "text": [
      "Empty DataFrame\n",
      "Columns: [age, job, marital, education, balance, housing, duration, campaign, deposit]\n",
      "Index: []\n"
     ]
    }
   ],
   "source": [
    "grab_outliers(df, \"age\")"
   ]
  },
  {
   "cell_type": "markdown",
   "id": "b19410fa-ae87-4d4b-810e-87fc41f65af2",
   "metadata": {},
   "source": [
    "### Outlier Check"
   ]
  },
  {
   "cell_type": "code",
   "execution_count": 22,
   "id": "11661051-ed80-40da-8423-0b3f7bf914d6",
   "metadata": {},
   "outputs": [],
   "source": [
    "def check_outlier(dataframe, col_name):\n",
    "    low_limit, up_limit = outlier_thresholds(dataframe, col_name)\n",
    "    if dataframe[(dataframe[col_name] > up_limit) | (dataframe[col_name] < low_limit)].any(axis=None):\n",
    "        return True\n",
    "    else:\n",
    "        return False"
   ]
  },
  {
   "cell_type": "code",
   "execution_count": 23,
   "id": "92635a2b-9d35-4435-bb0b-3e16de8d3640",
   "metadata": {},
   "outputs": [
    {
     "name": "stdout",
     "output_type": "stream",
     "text": [
      "age False\n",
      "balance True\n",
      "duration True\n",
      "campaign True\n"
     ]
    }
   ],
   "source": [
    "for col in num_cols:\n",
    "    print(col, check_outlier(df, col))"
   ]
  },
  {
   "cell_type": "code",
   "execution_count": 24,
   "id": "86086eaf-ca38-41b8-8546-5f59d6243158",
   "metadata": {},
   "outputs": [],
   "source": [
    "num_cols1 = ['age', 'duration', 'campaign']"
   ]
  },
  {
   "cell_type": "markdown",
   "id": "26127bc6-8bff-4c5c-b7a7-3320f68d5287",
   "metadata": {},
   "source": [
    "### Delete Outlier"
   ]
  },
  {
   "cell_type": "code",
   "execution_count": 25,
   "id": "9079b613-72a6-4277-8361-a702effd7146",
   "metadata": {},
   "outputs": [],
   "source": [
    "def remove_outlier(dataframe, col_name):\n",
    "    low_limit, up_limit = outlier_thresholds(dataframe, col_name)\n",
    "    df_without_outliers = dataframe[~((dataframe[col_name] < low_limit) | (dataframe[col_name] > up_limit))]\n",
    "    return df_without_outliers"
   ]
  },
  {
   "cell_type": "code",
   "execution_count": null,
   "id": "373293ee-d0a6-4736-ba19-43ba667e9952",
   "metadata": {},
   "outputs": [],
   "source": []
  }
 ],
 "metadata": {
  "kernelspec": {
   "display_name": "Python 3 (ipykernel)",
   "language": "python",
   "name": "python3"
  },
  "language_info": {
   "codemirror_mode": {
    "name": "ipython",
    "version": 3
   },
   "file_extension": ".py",
   "mimetype": "text/x-python",
   "name": "python",
   "nbconvert_exporter": "python",
   "pygments_lexer": "ipython3",
   "version": "3.10.9"
  }
 },
 "nbformat": 4,
 "nbformat_minor": 5
}
