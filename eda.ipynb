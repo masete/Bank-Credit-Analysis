{
 "cells": [
  {
   "cell_type": "markdown",
   "id": "10a32ba4-12ed-4c5f-aa39-60fcc4fee4ea",
   "metadata": {},
   "source": [
    "# Business Problem"
   ]
  },
  {
   "cell_type": "markdown",
   "id": "f0b16e42-8e72-46ce-b0ab-b65b57ba4fdd",
   "metadata": {},
   "source": [
    "A bank requested a machine learning model that would produce results on whether loan applicants among the bank's customers would get the loan or not.\n",
    "\n",
    "Data Quality                                                                                \n",
    "Descriptive Statistics\n",
    "Modelling\n",
    "Evaluation"
   ]
  },
  {
   "cell_type": "markdown",
   "id": "11b7c649-9861-490c-a594-9cb5ee7db1e5",
   "metadata": {},
   "source": [
    "1. Data Quality\n",
    "It is the dataset that contains information about customers and we will work on deriving useful insights from the information and predicting whether a new customer will accept a loan offer.\n",
    "\n",
    "1 - age: The age of the customer, must be over 18(numeric)\n",
    "\n",
    "2 - job: customer is profession(categorical)\n",
    "\n",
    "admin.\n",
    "blue-collar\n",
    "entrepreneur\n",
    "housemaid\n",
    "management\n",
    "self-employed\n",
    "retired\n",
    "services\n",
    "student\n",
    "technician\n",
    "unemployed\n",
    "unknown\n",
    "3 - marital: marital status(categorical)\n",
    "\n",
    "married\n",
    "single\n",
    "divorced Note: 'divorced' means divorced or widowed\n",
    "4 - education: educational status(categorical)\n",
    "\n",
    "primary\n",
    "secondary\n",
    "tertiary\n",
    "unknown\n",
    "5 - balance: bank balance\n",
    "\n",
    "6 - housing: has housing loan? (categorical: 'no','yes','unknown')\n",
    "\n",
    "7 - campaign: number of contacts performed during this campaign and for this client (numeric)\n",
    "\n",
    "8 - deposit: did the customer get a loan? (binary: 'yes', 'no')\n",
    "\n",
    "9 - duration: contact time in seconds (numeric)"
   ]
  },
  {
   "cell_type": "markdown",
   "id": "92729ac9-1ec7-4d55-9b0e-efa147e4a528",
   "metadata": {},
   "source": [
    "Libraries"
   ]
  },
  {
   "cell_type": "code",
   "execution_count": 1,
   "id": "3103e08c-e310-4df6-aaa8-ed443e0d2c35",
   "metadata": {},
   "outputs": [
    {
     "name": "stdout",
     "output_type": "stream",
     "text": [
      "Requirement already satisfied: lazypredict in ./venv/lib/python3.10/site-packages (0.2.12)\n",
      "Requirement already satisfied: joblib in ./venv/lib/python3.10/site-packages (from lazypredict) (1.2.0)\n",
      "Requirement already satisfied: lightgbm in ./venv/lib/python3.10/site-packages (from lazypredict) (3.3.4)\n",
      "Requirement already satisfied: pandas in ./venv/lib/python3.10/site-packages (from lazypredict) (1.5.2)\n",
      "Requirement already satisfied: click in ./venv/lib/python3.10/site-packages (from lazypredict) (8.1.3)\n",
      "Requirement already satisfied: xgboost in ./venv/lib/python3.10/site-packages (from lazypredict) (1.7.3)\n",
      "Requirement already satisfied: tqdm in ./venv/lib/python3.10/site-packages (from lazypredict) (4.64.1)\n",
      "Requirement already satisfied: scikit-learn in ./venv/lib/python3.10/site-packages (from lazypredict) (1.2.0)\n",
      "Requirement already satisfied: wheel in ./venv/lib/python3.10/site-packages (from lightgbm->lazypredict) (0.38.4)\n",
      "Requirement already satisfied: scipy in ./venv/lib/python3.10/site-packages (from lightgbm->lazypredict) (1.10.0)\n",
      "Requirement already satisfied: numpy in ./venv/lib/python3.10/site-packages (from lightgbm->lazypredict) (1.24.1)\n",
      "Requirement already satisfied: threadpoolctl>=2.0.0 in ./venv/lib/python3.10/site-packages (from scikit-learn->lazypredict) (3.1.0)\n",
      "Requirement already satisfied: python-dateutil>=2.8.1 in ./venv/lib/python3.10/site-packages (from pandas->lazypredict) (2.8.2)\n",
      "Requirement already satisfied: pytz>=2020.1 in ./venv/lib/python3.10/site-packages (from pandas->lazypredict) (2022.7.1)\n",
      "Requirement already satisfied: six>=1.5 in ./venv/lib/python3.10/site-packages (from python-dateutil>=2.8.1->pandas->lazypredict) (1.16.0)\n"
     ]
    }
   ],
   "source": [
    "!pip install lazypredict"
   ]
  },
  {
   "cell_type": "code",
   "execution_count": 2,
   "id": "8cc6ca88-525f-4504-a5cd-6e18266f77ab",
   "metadata": {},
   "outputs": [],
   "source": [
    "import os\n",
    "import lazypredict\n",
    "import numpy as np\n",
    "import pandas as pd\n",
    "import xgboost as xgb\n",
    "import seaborn as sns\n",
    "import matplotlib.pyplot as plt\n",
    "from xgboost import XGBRegressor\n",
    "import matplotlib.pyplot as pyplot\n",
    "from lightgbm import LGBMClassifier\n",
    "from imblearn.over_sampling import SMOTE\n",
    "from lazypredict.Supervised import LazyClassifier\n",
    "from sklearn.preprocessing import MinMaxScaler, StandardScaler, LabelEncoder\n",
    "from sklearn.model_selection import train_test_split, GridSearchCV\n",
    "from sklearn.metrics import classification_report, confusion_matrix, ConfusionMatrixDisplay\n",
    "from sklearn.metrics import roc_auc_score, f1_score, precision_score, recall_score, accuracy_score, auc, roc_curve\n",
    "\n",
    "import warnings\n",
    "from sklearn.exceptions import ConvergenceWarning\n",
    "warnings.simplefilter(action='ignore', category=FutureWarning)\n",
    "warnings.simplefilter(\"ignore\", category=ConvergenceWarning)\n",
    "\n",
    "pd.set_option('display.max_columns', None)\n",
    "pd.set_option('display.max_rows', None)\n",
    "pd.set_option('display.width', None)\n",
    "pd.set_option('display.float_format', lambda x: '%.3f' % x)"
   ]
  },
  {
   "cell_type": "code",
   "execution_count": 10,
   "id": "1c98be5c-71a7-4563-a45c-fbeba656dc42",
   "metadata": {},
   "outputs": [],
   "source": [
    "def load():\n",
    "    df = pd.read_csv('data/bank.csv')\n",
    "    return df\n",
    "\n",
    "df = load()\n",
    "\n",
    "df = df.drop(labels = ['default', 'contact', 'day', 'month', 'pdays', 'previous', 'loan', 'poutcome', 'poutcome'], axis=1)"
   ]
  },
  {
   "cell_type": "markdown",
   "id": "9eb1e828-63d6-4df4-8eed-442c71258372",
   "metadata": {},
   "source": [
    "Overview"
   ]
  },
  {
   "cell_type": "code",
   "execution_count": 12,
   "id": "df144dca-7dbe-4c60-a492-79efa4003094",
   "metadata": {},
   "outputs": [
    {
     "name": "stdout",
     "output_type": "stream",
     "text": [
      "##################### Shape #####################\n",
      "(11162, 9)\n",
      "##################### Types #####################\n",
      "age           int64\n",
      "job          object\n",
      "marital      object\n",
      "education    object\n",
      "balance       int64\n",
      "housing      object\n",
      "duration      int64\n",
      "campaign      int64\n",
      "deposit      object\n",
      "dtype: object\n",
      "##################### Head #####################\n",
      "   age         job  marital  education  balance housing  duration  campaign  \\\n",
      "0   59      admin.  married  secondary     2343     yes      1042         1   \n",
      "1   56      admin.  married  secondary       45      no      1467         1   \n",
      "2   41  technician  married  secondary     1270     yes      1389         1   \n",
      "3   55    services  married  secondary     2476     yes       579         1   \n",
      "4   54      admin.  married   tertiary      184      no       673         2   \n",
      "\n",
      "  deposit  \n",
      "0     yes  \n",
      "1     yes  \n",
      "2     yes  \n",
      "3     yes  \n",
      "4     yes  \n",
      "##################### NA #####################\n",
      "age          0\n",
      "job          0\n",
      "marital      0\n",
      "education    0\n",
      "balance      0\n",
      "housing      0\n",
      "duration     0\n",
      "campaign     0\n",
      "deposit      0\n",
      "dtype: int64\n",
      "##################### Quantiles #####################\n",
      "             0.000   0.050   0.500    0.950     0.990     1.000\n",
      "age         18.000  26.000  39.000   61.000    77.000    95.000\n",
      "balance  -6847.000 -54.950 550.000 6026.450 13226.980 81204.000\n",
      "duration     2.000  51.000 255.000 1079.900  1577.170  3881.000\n",
      "campaign     1.000   1.000   2.000    7.000    13.000    63.000\n"
     ]
    }
   ],
   "source": [
    "def check_df(dataframe):\n",
    "    print(\"##################### Shape #####################\")\n",
    "    print(dataframe.shape)\n",
    "    print(\"##################### Types #####################\")\n",
    "    print(dataframe.dtypes)\n",
    "    print(\"##################### Head #####################\")\n",
    "    print(dataframe.head(5))\n",
    "    print(\"##################### NA #####################\")\n",
    "    print(dataframe.isnull().sum())\n",
    "    print(\"##################### Quantiles #####################\")\n",
    "    print(dataframe.quantile([0, 0.05, 0.50, 0.95, 0.99, 1]).T)\n",
    "\n",
    "check_df(df)"
   ]
  },
  {
   "cell_type": "code",
   "execution_count": null,
   "id": "3bb72024-dd81-47e8-a577-e120d3a38f33",
   "metadata": {},
   "outputs": [],
   "source": []
  }
 ],
 "metadata": {
  "kernelspec": {
   "display_name": "Python 3 (ipykernel)",
   "language": "python",
   "name": "python3"
  },
  "language_info": {
   "codemirror_mode": {
    "name": "ipython",
    "version": 3
   },
   "file_extension": ".py",
   "mimetype": "text/x-python",
   "name": "python",
   "nbconvert_exporter": "python",
   "pygments_lexer": "ipython3",
   "version": "3.10.9"
  }
 },
 "nbformat": 4,
 "nbformat_minor": 5
}
